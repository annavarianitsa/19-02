{
 "cells": [
  {
   "cell_type": "code",
   "execution_count": 1,
   "metadata": {},
   "outputs": [],
   "source": [
    "import pandas as pd"
   ]
  },
  {
   "cell_type": "code",
   "execution_count": 2,
   "metadata": {},
   "outputs": [],
   "source": [
    "D = pd.read_excel(\"https://github.com/junaart/ForStudents/raw/refs/heads/main/R/Zachet/DataSets/3.xlsx\")"
   ]
  },
  {
   "cell_type": "code",
   "execution_count": 3,
   "metadata": {},
   "outputs": [
    {
     "data": {
      "text/html": [
       "<div>\n",
       "<style scoped>\n",
       "    .dataframe tbody tr th:only-of-type {\n",
       "        vertical-align: middle;\n",
       "    }\n",
       "\n",
       "    .dataframe tbody tr th {\n",
       "        vertical-align: top;\n",
       "    }\n",
       "\n",
       "    .dataframe thead th {\n",
       "        text-align: right;\n",
       "    }\n",
       "</style>\n",
       "<table border=\"1\" class=\"dataframe\">\n",
       "  <thead>\n",
       "    <tr style=\"text-align: right;\">\n",
       "      <th></th>\n",
       "      <th>town1</th>\n",
       "      <th>Avg-Avg-Р11</th>\n",
       "      <th>Avg-Avg-Р12</th>\n",
       "      <th>Avg-Avg-Р13</th>\n",
       "      <th>Avg-Avg-Р14</th>\n",
       "      <th>Avg-Avg-Р15</th>\n",
       "      <th>Avg-Avg-Р16</th>\n",
       "      <th>Avg-Avg-Р21</th>\n",
       "      <th>Avg-Avg-Р22</th>\n",
       "      <th>Avg-Avg-Р23</th>\n",
       "      <th>Avg-Avg-Р24</th>\n",
       "      <th>Avg-Avg-Р3</th>\n",
       "    </tr>\n",
       "  </thead>\n",
       "  <tbody>\n",
       "    <tr>\n",
       "      <th>0</th>\n",
       "      <td>Абакан</td>\n",
       "      <td>18.250000</td>\n",
       "      <td>22.250000</td>\n",
       "      <td>704.250000</td>\n",
       "      <td>197.500000</td>\n",
       "      <td>19.500000</td>\n",
       "      <td>17.500000</td>\n",
       "      <td>16.000000</td>\n",
       "      <td>20.500000</td>\n",
       "      <td>87.250000</td>\n",
       "      <td>221.750000</td>\n",
       "      <td>27.446750</td>\n",
       "    </tr>\n",
       "    <tr>\n",
       "      <th>1</th>\n",
       "      <td>Азовский район</td>\n",
       "      <td>0.000000</td>\n",
       "      <td>1.000000</td>\n",
       "      <td>8.333333</td>\n",
       "      <td>1.666667</td>\n",
       "      <td>0.000000</td>\n",
       "      <td>0.000000</td>\n",
       "      <td>0.000000</td>\n",
       "      <td>1.000000</td>\n",
       "      <td>20.000000</td>\n",
       "      <td>92.000000</td>\n",
       "      <td>0.819667</td>\n",
       "    </tr>\n",
       "    <tr>\n",
       "      <th>2</th>\n",
       "      <td>Аксайский район</td>\n",
       "      <td>1.000000</td>\n",
       "      <td>0.250000</td>\n",
       "      <td>129.750000</td>\n",
       "      <td>18.000000</td>\n",
       "      <td>0.000000</td>\n",
       "      <td>15.500000</td>\n",
       "      <td>0.000000</td>\n",
       "      <td>0.000000</td>\n",
       "      <td>127.250000</td>\n",
       "      <td>2277.750000</td>\n",
       "      <td>9.550500</td>\n",
       "    </tr>\n",
       "    <tr>\n",
       "      <th>3</th>\n",
       "      <td>Алексеевкий район</td>\n",
       "      <td>0.000000</td>\n",
       "      <td>0.000000</td>\n",
       "      <td>0.000000</td>\n",
       "      <td>0.000000</td>\n",
       "      <td>0.000000</td>\n",
       "      <td>0.000000</td>\n",
       "      <td>0.000000</td>\n",
       "      <td>0.000000</td>\n",
       "      <td>0.000000</td>\n",
       "      <td>0.000000</td>\n",
       "      <td>0.000000</td>\n",
       "    </tr>\n",
       "    <tr>\n",
       "      <th>4</th>\n",
       "      <td>Анапа</td>\n",
       "      <td>0.000000</td>\n",
       "      <td>0.000000</td>\n",
       "      <td>31.000000</td>\n",
       "      <td>0.000000</td>\n",
       "      <td>0.000000</td>\n",
       "      <td>1.500000</td>\n",
       "      <td>0.000000</td>\n",
       "      <td>0.000000</td>\n",
       "      <td>0.000000</td>\n",
       "      <td>208.500000</td>\n",
       "      <td>2.921500</td>\n",
       "    </tr>\n",
       "    <tr>\n",
       "      <th>...</th>\n",
       "      <td>...</td>\n",
       "      <td>...</td>\n",
       "      <td>...</td>\n",
       "      <td>...</td>\n",
       "      <td>...</td>\n",
       "      <td>...</td>\n",
       "      <td>...</td>\n",
       "      <td>...</td>\n",
       "      <td>...</td>\n",
       "      <td>...</td>\n",
       "      <td>...</td>\n",
       "      <td>...</td>\n",
       "    </tr>\n",
       "    <tr>\n",
       "      <th>276</th>\n",
       "      <td>Южно-Сахалинск</td>\n",
       "      <td>8.350000</td>\n",
       "      <td>6.750000</td>\n",
       "      <td>51.200000</td>\n",
       "      <td>15.500000</td>\n",
       "      <td>0.750000</td>\n",
       "      <td>0.450000</td>\n",
       "      <td>172.750000</td>\n",
       "      <td>8.700000</td>\n",
       "      <td>11.750000</td>\n",
       "      <td>448.350000</td>\n",
       "      <td>9.085250</td>\n",
       "    </tr>\n",
       "    <tr>\n",
       "      <th>277</th>\n",
       "      <td>Якутск</td>\n",
       "      <td>21.150000</td>\n",
       "      <td>27.100000</td>\n",
       "      <td>316.833333</td>\n",
       "      <td>105.166667</td>\n",
       "      <td>1.400000</td>\n",
       "      <td>2.333333</td>\n",
       "      <td>420.666667</td>\n",
       "      <td>550.400000</td>\n",
       "      <td>793.533333</td>\n",
       "      <td>1505.300000</td>\n",
       "      <td>37.549617</td>\n",
       "    </tr>\n",
       "    <tr>\n",
       "      <th>278</th>\n",
       "      <td>Ялта</td>\n",
       "      <td>4.833333</td>\n",
       "      <td>7.333333</td>\n",
       "      <td>222.166667</td>\n",
       "      <td>26.333333</td>\n",
       "      <td>0.000000</td>\n",
       "      <td>0.333333</td>\n",
       "      <td>436.833333</td>\n",
       "      <td>127.833333</td>\n",
       "      <td>884.333333</td>\n",
       "      <td>1906.000000</td>\n",
       "      <td>12.115167</td>\n",
       "    </tr>\n",
       "    <tr>\n",
       "      <th>279</th>\n",
       "      <td>Ярославль</td>\n",
       "      <td>30.440476</td>\n",
       "      <td>33.821429</td>\n",
       "      <td>407.476190</td>\n",
       "      <td>12.785714</td>\n",
       "      <td>0.321429</td>\n",
       "      <td>1.571429</td>\n",
       "      <td>108.226190</td>\n",
       "      <td>138.428571</td>\n",
       "      <td>38.535714</td>\n",
       "      <td>949.666667</td>\n",
       "      <td>26.777869</td>\n",
       "    </tr>\n",
       "    <tr>\n",
       "      <th>280</th>\n",
       "      <td>Ярославский район</td>\n",
       "      <td>0.000000</td>\n",
       "      <td>0.000000</td>\n",
       "      <td>15.666667</td>\n",
       "      <td>0.000000</td>\n",
       "      <td>0.000000</td>\n",
       "      <td>1.000000</td>\n",
       "      <td>0.000000</td>\n",
       "      <td>0.000000</td>\n",
       "      <td>0.000000</td>\n",
       "      <td>168.000000</td>\n",
       "      <td>1.559667</td>\n",
       "    </tr>\n",
       "  </tbody>\n",
       "</table>\n",
       "<p>281 rows × 12 columns</p>\n",
       "</div>"
      ],
      "text/plain": [
       "                 town1  Avg-Avg-Р11  Avg-Avg-Р12  Avg-Avg-Р13  Avg-Avg-Р14  \\\n",
       "0               Абакан    18.250000    22.250000   704.250000   197.500000   \n",
       "1       Азовский район     0.000000     1.000000     8.333333     1.666667   \n",
       "2      Аксайский район     1.000000     0.250000   129.750000    18.000000   \n",
       "3    Алексеевкий район     0.000000     0.000000     0.000000     0.000000   \n",
       "4                Анапа     0.000000     0.000000    31.000000     0.000000   \n",
       "..                 ...          ...          ...          ...          ...   \n",
       "276     Южно-Сахалинск     8.350000     6.750000    51.200000    15.500000   \n",
       "277             Якутск    21.150000    27.100000   316.833333   105.166667   \n",
       "278               Ялта     4.833333     7.333333   222.166667    26.333333   \n",
       "279          Ярославль    30.440476    33.821429   407.476190    12.785714   \n",
       "280  Ярославский район     0.000000     0.000000    15.666667     0.000000   \n",
       "\n",
       "     Avg-Avg-Р15  Avg-Avg-Р16  Avg-Avg-Р21  Avg-Avg-Р22  Avg-Avg-Р23  \\\n",
       "0      19.500000    17.500000    16.000000    20.500000    87.250000   \n",
       "1       0.000000     0.000000     0.000000     1.000000    20.000000   \n",
       "2       0.000000    15.500000     0.000000     0.000000   127.250000   \n",
       "3       0.000000     0.000000     0.000000     0.000000     0.000000   \n",
       "4       0.000000     1.500000     0.000000     0.000000     0.000000   \n",
       "..           ...          ...          ...          ...          ...   \n",
       "276     0.750000     0.450000   172.750000     8.700000    11.750000   \n",
       "277     1.400000     2.333333   420.666667   550.400000   793.533333   \n",
       "278     0.000000     0.333333   436.833333   127.833333   884.333333   \n",
       "279     0.321429     1.571429   108.226190   138.428571    38.535714   \n",
       "280     0.000000     1.000000     0.000000     0.000000     0.000000   \n",
       "\n",
       "     Avg-Avg-Р24  Avg-Avg-Р3  \n",
       "0     221.750000   27.446750  \n",
       "1      92.000000    0.819667  \n",
       "2    2277.750000    9.550500  \n",
       "3       0.000000    0.000000  \n",
       "4     208.500000    2.921500  \n",
       "..           ...         ...  \n",
       "276   448.350000    9.085250  \n",
       "277  1505.300000   37.549617  \n",
       "278  1906.000000   12.115167  \n",
       "279   949.666667   26.777869  \n",
       "280   168.000000    1.559667  \n",
       "\n",
       "[281 rows x 12 columns]"
      ]
     },
     "metadata": {},
     "output_type": "display_data"
    }
   ],
   "source": [
    "display(D)"
   ]
  },
  {
   "cell_type": "code",
   "execution_count": 5,
   "metadata": {},
   "outputs": [],
   "source": [
    "import redis as rd"
   ]
  },
  {
   "cell_type": "code",
   "execution_count": 18,
   "metadata": {},
   "outputs": [],
   "source": [
    "r = rd.Redis()\n",
    "key = \"is1.\"\n",
    "for i in range(len(D[\"Avg-Avg-Р11\"])):\n",
    "    r.set(key+str(i),str(D[\"Avg-Avg-Р11\"].iloc[i]))"
   ]
  },
  {
   "cell_type": "code",
   "execution_count": 12,
   "metadata": {},
   "outputs": [
    {
     "data": {
      "text/plain": [
       "Index(['town1', 'Avg-Avg-Р11', 'Avg-Avg-Р12', 'Avg-Avg-Р13', 'Avg-Avg-Р14',\n",
       "       'Avg-Avg-Р15', 'Avg-Avg-Р16', 'Avg-Avg-Р21', 'Avg-Avg-Р22',\n",
       "       'Avg-Avg-Р23', 'Avg-Avg-Р24', 'Avg-Avg-Р3'],\n",
       "      dtype='object')"
      ]
     },
     "execution_count": 12,
     "metadata": {},
     "output_type": "execute_result"
    }
   ],
   "source": [
    "D.columns"
   ]
  },
  {
   "cell_type": "code",
   "execution_count": 16,
   "metadata": {},
   "outputs": [],
   "source": [
    "r = rd.Redis()\n",
    "key = \"is2.\"\n",
    "for i in range(len(D[\"Avg-Avg-Р12\"])):\n",
    "    r.set(key+str(i),str(D[\"Avg-Avg-Р12\"].iloc[i]))"
   ]
  },
  {
   "cell_type": "code",
   "execution_count": 17,
   "metadata": {},
   "outputs": [],
   "source": [
    "r = rd.Redis()\n",
    "key = \"is3.\"\n",
    "for i in range(len(D[\"Avg-Avg-Р13\"])):\n",
    "    r.set(key+str(i),str(D[\"Avg-Avg-Р13\"].iloc[i]))"
   ]
  },
  {
   "cell_type": "code",
   "execution_count": 19,
   "metadata": {},
   "outputs": [],
   "source": [
    "r = rd.Redis()\n",
    "key = \"is4.\"\n",
    "for i in range(len(D[\"Avg-Avg-Р14\"])):\n",
    "    r.set(key+str(i),str(D[\"Avg-Avg-Р14\"].iloc[i]))"
   ]
  },
  {
   "cell_type": "code",
   "execution_count": 20,
   "metadata": {},
   "outputs": [],
   "source": [
    "r = rd.Redis()\n",
    "key = \"is5.\"\n",
    "for i in range(len(D[\"Avg-Avg-Р15\"])):\n",
    "    r.set(key+str(i),str(D[\"Avg-Avg-Р15\"].iloc[i]))"
   ]
  },
  {
   "cell_type": "code",
   "execution_count": 21,
   "metadata": {},
   "outputs": [],
   "source": [
    "r = rd.Redis()\n",
    "key = \"is6.\"\n",
    "for i in range(len(D[\"Avg-Avg-Р16\"])):\n",
    "    r.set(key+str(i),str(D[\"Avg-Avg-Р16\"].iloc[i]))"
   ]
  },
  {
   "cell_type": "code",
   "execution_count": 22,
   "metadata": {},
   "outputs": [],
   "source": [
    "r = rd.Redis()\n",
    "key = \"is7.\"\n",
    "for i in range(len(D[\"Avg-Avg-Р21\"])):\n",
    "    r.set(key+str(i),str(D[\"Avg-Avg-Р21\"].iloc[i]))"
   ]
  },
  {
   "cell_type": "code",
   "execution_count": 23,
   "metadata": {},
   "outputs": [],
   "source": [
    "r = rd.Redis()\n",
    "key = \"is8.\"\n",
    "for i in range(len(D[\"Avg-Avg-Р22\"])):\n",
    "    r.set(key+str(i),str(D[\"Avg-Avg-Р22\"].iloc[i]))"
   ]
  },
  {
   "cell_type": "code",
   "execution_count": 24,
   "metadata": {},
   "outputs": [],
   "source": [
    "r = rd.Redis()\n",
    "key = \"is9.\"\n",
    "for i in range(len(D[\"Avg-Avg-Р23\"])):\n",
    "    r.set(key+str(i),str(D[\"Avg-Avg-Р23\"].iloc[i]))"
   ]
  },
  {
   "cell_type": "code",
   "execution_count": 25,
   "metadata": {},
   "outputs": [],
   "source": [
    "r = rd.Redis()\n",
    "key = \"is10.\"\n",
    "for i in range(len(D[\"Avg-Avg-Р24\"])):\n",
    "    r.set(key+str(i),str(D[\"Avg-Avg-Р24\"].iloc[i]))"
   ]
  },
  {
   "cell_type": "code",
   "execution_count": 26,
   "metadata": {},
   "outputs": [],
   "source": [
    "r = rd.Redis()\n",
    "key = \"is11.\"\n",
    "for i in range(len(D[\"Avg-Avg-Р3\"])):\n",
    "    r.set(key+str(i),str(D[\"Avg-Avg-Р3\"].iloc[i]))"
   ]
  }
 ],
 "metadata": {
  "kernelspec": {
   "display_name": "Python 3",
   "language": "python",
   "name": "python3"
  },
  "language_info": {
   "codemirror_mode": {
    "name": "ipython",
    "version": 3
   },
   "file_extension": ".py",
   "mimetype": "text/x-python",
   "name": "python",
   "nbconvert_exporter": "python",
   "pygments_lexer": "ipython3",
   "version": "3.12.1"
  }
 },
 "nbformat": 4,
 "nbformat_minor": 2
}
